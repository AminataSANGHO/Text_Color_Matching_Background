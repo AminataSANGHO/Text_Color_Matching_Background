{
 "cells": [
  {
   "cell_type": "markdown",
   "metadata": {},
   "source": [
    "<h1 style=\"background-color:#af318e;font-family:Serif;font-size:300%;color: #000;text-align:center;border-radius: 50px 50px;\">Color Matching</h1>"
   ]
  },
  {
   "cell_type": "code",
   "execution_count": 280,
   "metadata": {},
   "outputs": [],
   "source": [
    "import csv\n",
    "import random\n",
    "import pandas as pd\n",
    "import numpy as np\n",
    "import matplotlib.pyplot as plt \n",
    "import torch\n",
    "from torch.utils.data import Dataset, DataLoader\n",
    "from sklearn.model_selection import train_test_split\n",
    "from sklearn.preprocessing import LabelEncoder\n",
    "import torch.nn as nn\n",
    "import torch.nn.functional as F\n",
    "import torch.optim as optim\n",
    "\n",
    "from ColorClassifier import  ColorClassifier"
   ]
  },
  {
   "cell_type": "markdown",
   "metadata": {},
   "source": [
    "## Dataset Generation"
   ]
  },
  {
   "cell_type": "code",
   "execution_count": 4,
   "metadata": {},
   "outputs": [
    {
     "data": {
      "text/plain": [
       "1000"
      ]
     },
     "execution_count": 4,
     "metadata": {},
     "output_type": "execute_result"
    }
   ],
   "source": [
    "def generate_colored_dataset(num_elements):\n",
    "    colored_dataset = []\n",
    "\n",
    "    for _ in range(num_elements):\n",
    "        random_color = \"#{:06X}\".format(random.randint(0, 0xFFFFFF))\n",
    "\n",
    "        # Sélectionner une étiquette en fonction de la luminosité de la couleur\n",
    "        luminance = (0.299 * int(random_color[1:3], 16) + 0.587 * int(random_color[3:5], 16) + 0.114 * int(random_color[5:7], 16)) / 255\n",
    "        if (luminance<0.1): label = 0\n",
    "        elif (luminance<0.2): label = 1\n",
    "        elif (luminance<0.3): label = 2\n",
    "        elif (luminance<0.4): label = 3\n",
    "        elif (luminance<0.5): label = 4\n",
    "        elif (luminance<0.6): label = 5\n",
    "        elif (luminance<0.7): label = 6\n",
    "        elif (luminance<0.8): label = 7\n",
    "        elif (luminance<0.9): label = 8\n",
    "        else: label = 9\n",
    "        \n",
    "        colored_dataset.append((random_color, label))\n",
    "\n",
    "    return colored_dataset\n",
    "\n",
    "# Génération\n",
    "dataset_size = 1000\n",
    "color_dataset = generate_colored_dataset(dataset_size)\n",
    "\n",
    "len(color_dataset)"
   ]
  },
  {
   "cell_type": "code",
   "execution_count": 5,
   "metadata": {},
   "outputs": [
    {
     "name": "stdout",
     "output_type": "stream",
     "text": [
      "Le dataset a été enregistré dans color_dataset.csv\n"
     ]
    }
   ],
   "source": [
    "# Enregistrer le dataset dans un fichier CSV\n",
    "csv_filename = 'color_dataset.csv'\n",
    "with open(csv_filename, 'w', newline='') as csvfile:\n",
    "    fieldnames = ['couleur', 'etiquette']\n",
    "    writer = csv.DictWriter(csvfile, fieldnames=fieldnames)\n",
    "\n",
    "    writer.writeheader()\n",
    "    for color, label in color_dataset:\n",
    "        writer.writerow({'couleur': color, 'etiquette': label})\n",
    "\n",
    "print(f\"Le dataset a été enregistré dans {csv_filename}\")"
   ]
  },
  {
   "cell_type": "code",
   "execution_count": 24,
   "metadata": {},
   "outputs": [
    {
     "data": {
      "text/html": [
       "<div>\n",
       "<style scoped>\n",
       "    .dataframe tbody tr th:only-of-type {\n",
       "        vertical-align: middle;\n",
       "    }\n",
       "\n",
       "    .dataframe tbody tr th {\n",
       "        vertical-align: top;\n",
       "    }\n",
       "\n",
       "    .dataframe thead th {\n",
       "        text-align: right;\n",
       "    }\n",
       "</style>\n",
       "<table border=\"1\" class=\"dataframe\">\n",
       "  <thead>\n",
       "    <tr style=\"text-align: right;\">\n",
       "      <th></th>\n",
       "      <th>couleur</th>\n",
       "      <th>etiquette</th>\n",
       "    </tr>\n",
       "  </thead>\n",
       "  <tbody>\n",
       "    <tr>\n",
       "      <th>0</th>\n",
       "      <td>#63ADBB</td>\n",
       "      <td>5</td>\n",
       "    </tr>\n",
       "    <tr>\n",
       "      <th>1</th>\n",
       "      <td>#60A37C</td>\n",
       "      <td>5</td>\n",
       "    </tr>\n",
       "    <tr>\n",
       "      <th>2</th>\n",
       "      <td>#178F2D</td>\n",
       "      <td>3</td>\n",
       "    </tr>\n",
       "    <tr>\n",
       "      <th>3</th>\n",
       "      <td>#610D19</td>\n",
       "      <td>1</td>\n",
       "    </tr>\n",
       "    <tr>\n",
       "      <th>4</th>\n",
       "      <td>#5C114D</td>\n",
       "      <td>1</td>\n",
       "    </tr>\n",
       "  </tbody>\n",
       "</table>\n",
       "</div>"
      ],
      "text/plain": [
       "   couleur  etiquette\n",
       "0  #63ADBB          5\n",
       "1  #60A37C          5\n",
       "2  #178F2D          3\n",
       "3  #610D19          1\n",
       "4  #5C114D          1"
      ]
     },
     "execution_count": 24,
     "metadata": {},
     "output_type": "execute_result"
    }
   ],
   "source": [
    "df = pd.read_csv('color_dataset.csv')\n",
    "df.head()"
   ]
  },
  {
   "cell_type": "markdown",
   "metadata": {},
   "source": [
    "## Data Processing"
   ]
  },
  {
   "cell_type": "code",
   "execution_count": 7,
   "metadata": {},
   "outputs": [
    {
     "data": {
      "text/plain": [
       "torch.Size([200])"
      ]
     },
     "execution_count": 7,
     "metadata": {},
     "output_type": "execute_result"
    }
   ],
   "source": [
    "X = df['couleur']\n",
    "y = df['etiquette']\n",
    "\n",
    "X_train, X_test, y_train, y_test = train_test_split(X, y, test_size=0.2, random_state=42)\n",
    "\n",
    "# valeurs RGB des couleurs hexadécimales\n",
    "def hex_to_rgb(hex_color):\n",
    "    hex_color = hex_color.lstrip('#')\n",
    "    return np.array([int(hex_color[i:i+2], 16) for i in (0, 2, 4)])\n",
    "\n",
    "# Appliquer la fonction pour obtenir les valeurs RVB pour chaque couleur\n",
    "X_train_rgb = np.array([hex_to_rgb(color) for color in X_train])\n",
    "X_test_rgb = np.array([hex_to_rgb(color) for color in X_test])\n",
    "\n",
    "# Normaliser les valeurs RGB\n",
    "X_train_rgb = X_train_rgb / 255.0\n",
    "X_test_rgb = X_test_rgb / 255.0\n",
    "\n",
    "# Convertir les données en tensors PyTorch\n",
    "X_train_tensor = torch.FloatTensor(X_train_rgb)\n",
    "y_train_tensor = torch.LongTensor(y_train.values)\n",
    "X_test_tensor = torch.FloatTensor(X_test_rgb)\n",
    "y_test_tensor = torch.LongTensor(y_test.values)\n"
   ]
  },
  {
   "cell_type": "markdown",
   "metadata": {},
   "source": [
    "## DataLoader"
   ]
  },
  {
   "cell_type": "code",
   "execution_count": 8,
   "metadata": {},
   "outputs": [],
   "source": [
    "class ColorDataset(Dataset):\n",
    "    def __init__(self, features, labels):\n",
    "        self.features = features\n",
    "        self.labels = labels\n",
    "\n",
    "    def __len__(self):\n",
    "        return len(self.features)\n",
    "\n",
    "    def __getitem__(self, index):\n",
    "        return self.features[index], self.labels[index]"
   ]
  },
  {
   "cell_type": "code",
   "execution_count": 279,
   "metadata": {},
   "outputs": [],
   "source": [
    "\n",
    "color_dataset = ColorDataset(X_train_tensor, y_train_tensor)\n",
    "\n",
    "batch_size = 100\n",
    "dataloader = DataLoader(color_dataset, batch_size=batch_size, shuffle=True)\n"
   ]
  },
  {
   "cell_type": "markdown",
   "metadata": {},
   "source": [
    "## Model Architecture"
   ]
  },
  {
   "cell_type": "code",
   "execution_count": 252,
   "metadata": {},
   "outputs": [
    {
     "data": {
      "text/plain": [
       "ColorClassifier(\n",
       "  (fc1): Linear(in_features=3, out_features=16, bias=True)\n",
       "  (fc2): Linear(in_features=16, out_features=32, bias=True)\n",
       "  (fc3): Linear(in_features=32, out_features=10, bias=True)\n",
       "  (fn1): ReLU()\n",
       ")"
      ]
     },
     "execution_count": 252,
     "metadata": {},
     "output_type": "execute_result"
    }
   ],
   "source": [
    "model = ColorClassifier()\n",
    "model"
   ]
  },
  {
   "cell_type": "markdown",
   "metadata": {},
   "source": [
    "## HyperParamaters"
   ]
  },
  {
   "cell_type": "code",
   "execution_count": 253,
   "metadata": {},
   "outputs": [],
   "source": [
    "criterion = nn.CrossEntropyLoss()\n",
    "optimizer = optim.Adam(model.parameters(), lr=0.01)"
   ]
  },
  {
   "cell_type": "markdown",
   "metadata": {},
   "source": [
    "## Train and Evaluate function"
   ]
  },
  {
   "cell_type": "code",
   "execution_count": 254,
   "metadata": {},
   "outputs": [],
   "source": [
    "losses = []\n",
    "accuracies = []\n",
    "\n",
    "def train_evaluate(n_epochs):\n",
    "    for epoch in range(n_epochs):   \n",
    "        losse = 0   \n",
    "        for i, (inputs, labels) in enumerate(dataloader, 1):\n",
    "            model.train()\n",
    "            # Forward pass\n",
    "            outputs = model(inputs)\n",
    "            loss = criterion(outputs, labels)\n",
    "\n",
    "            # Backward pass and optimization\n",
    "            optimizer.zero_grad()\n",
    "            loss.backward()\n",
    "            optimizer.step()\n",
    "\n",
    "            losse = losse + loss.item()\n",
    "        \n",
    "\n",
    "        with torch.no_grad():\n",
    "            model.eval()\n",
    "            outputs = model(X_test_tensor)\n",
    "            _, predicted = torch.max(outputs, 1)\n",
    "            accuracy = (predicted == y_test_tensor).sum().item() / y_test_tensor.size(0)\n",
    "            \n",
    "\n",
    "        # Afficher la perte pour chaque epoch\n",
    "        if (epoch+1) %50==0:\n",
    "            print(f\" Epoch: [{epoch+1}/ {n_epochs}], Loss: {loss.item()}, Accuracy: {accuracy* 100:.2f}\")\n",
    "            \n",
    "            losse = np.mean(losse)  \n",
    "            losses.append(losse)\n",
    "\n",
    "            accuracies.append(accuracy)\n",
    "           \n",
    "\n",
    "    \n",
    "\n"
   ]
  },
  {
   "cell_type": "markdown",
   "metadata": {},
   "source": [
    "## Visualization"
   ]
  },
  {
   "cell_type": "code",
   "execution_count": 249,
   "metadata": {},
   "outputs": [],
   "source": [
    "def visualization(losses, accuracies):\n",
    "    plt.figure(figsize=(12, 4))\n",
    "   \n",
    "    plt.subplot(1, 2, 1)\n",
    "    plt.title('Loss of train')\n",
    "    plt.plot(losses, label=' Loss', color='red')\n",
    "\n",
    "    plt.subplot(1,2,2)\n",
    "    plt.plot(accuracies, label='Accuracy', color='green')\n",
    "    plt.title('Accuracy of evaluation')\n",
    "\n",
    "    plt.legend()\n",
    "    plt.show()"
   ]
  },
  {
   "cell_type": "code",
   "execution_count": 255,
   "metadata": {},
   "outputs": [
    {
     "name": "stdout",
     "output_type": "stream",
     "text": [
      " Epoch: [50/ 500], Loss: 0.17617949843406677, Accuracy: 95.50\n",
      " Epoch: [100/ 500], Loss: 0.12506696581840515, Accuracy: 95.50\n",
      " Epoch: [150/ 500], Loss: 0.08278118073940277, Accuracy: 98.50\n",
      " Epoch: [200/ 500], Loss: 0.07976917922496796, Accuracy: 97.50\n",
      " Epoch: [250/ 500], Loss: 0.0695861279964447, Accuracy: 99.00\n",
      " Epoch: [300/ 500], Loss: 0.05704731494188309, Accuracy: 97.00\n",
      " Epoch: [350/ 500], Loss: 0.05404679849743843, Accuracy: 98.50\n",
      " Epoch: [400/ 500], Loss: 0.0722430944442749, Accuracy: 98.00\n",
      " Epoch: [450/ 500], Loss: 0.10005447268486023, Accuracy: 97.50\n",
      " Epoch: [500/ 500], Loss: 0.03403864800930023, Accuracy: 97.50\n"
     ]
    }
   ],
   "source": [
    "train_evaluate(500)"
   ]
  },
  {
   "cell_type": "code",
   "execution_count": 256,
   "metadata": {},
   "outputs": [
    {
     "data": {
      "image/png": "[encoded data removed]",
      "text/plain": [
       "<Figure size 1200x400 with 2 Axes>"
      ]
     },
     "metadata": {},
     "output_type": "display_data"
    }
   ],
   "source": [
    "visualization(losses, accuracies)"
   ]
  },
  {
   "cell_type": "markdown",
   "metadata": {},
   "source": [
    "## Saving to next use"
   ]
  },
  {
   "cell_type": "code",
   "execution_count": 277,
   "metadata": {},
   "outputs": [],
   "source": [
    "torch.save(model.state_dict(), 'ColorMatching.pth')"
   ]
  }
 ],
 "metadata": {
  "kernelspec": {
   "display_name": "Python 3",
   "language": "python",
   "name": "python3"
  },
  "language_info": {
   "codemirror_mode": {
    "name": "ipython",
    "version": 3
   },
   "file_extension": ".py",
   "mimetype": "text/x-python",
   "name": "python",
   "nbconvert_exporter": "python",
   "pygments_lexer": "ipython3",
   "version": "3.9.6"
  }
 },
 "nbformat": 4,
 "nbformat_minor": 2
}
